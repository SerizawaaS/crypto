{
 "cells": [
  {
   "cell_type": "markdown",
   "metadata": {},
   "source": [
    "# Serious cryptography/cryptohraphie theorie et pratique , implémentation complète"
   ]
  },
  {
   "cell_type": "markdown",
   "metadata": {},
   "source": [
    "cette implémentation a pour but de m'entrainer et réviser la cryptographie en implémentant en suivant les guidelines de \"serious cryptography a practical guide to encryption\"."
   ]
  },
  {
   "cell_type": "markdown",
   "metadata": {},
   "source": [
    "## $1$ Petite introduction cryptographique"
   ]
  },
  {
   "cell_type": "markdown",
   "metadata": {},
   "source": [
    "Le but principal de la cryptographie est de permettre à deux interlocuteurs que l'on nommera Alice et Bob de communiquer au travers d'un _canal mal sécurisé_ de manière secrète.L'idée est que si une troisièmme entité oscar peut intercepter le signal ou la communication à travers le canal non sécurisé il ne puisse pas lire le méssage.On veut ici garentir 3 choses:\n",
    "\n",
    "+ <span style=\"color: red;\"> **_Confidentialité_** </span>  : On veut garentir que si oscar s'empare de la   transmission il ne puisse pas le déchiffrer , on veut par la garentir la confidentialité du méssage.\n",
    "\n",
    "+ <span style=\"color: red;\"> **_Authenticité_** </span> : on veut garentir l'identité de la personne qui envoie le message et être bien sur qu'il s'agisse là d'alice et non d'oscar.\n",
    "\n",
    "+ <span style=\"color: red;\"> **_Intégrité_** </span>  : c'est à dire garentir Que le message n'a pas été modifié et qu'il arrive chez bob exactement comme Alice a souhaité qu'il arrive (ici le message fait reference au chiffré qui transite par le canal)"
   ]
  },
  {
   "cell_type": "markdown",
   "metadata": {},
   "source": [
    "## $1.1$ Cryptosysthèmes"
   ]
  },
  {
   "cell_type": "markdown",
   "metadata": {},
   "source": [
    "Un cryptosysthème est un quintuplet ( $P$ , $C$ , $K$ , $E$ , $D$ ) où :\n",
    "+ $P$ est un ensemble **_fini_** de blocs de **textes clairs** possibles\n",
    "+ $C$ est un ensemble _fini_ de textes chiffrés possible \n",
    "+ $K$ est l'ensemble de clés possible \n",
    "+ Pour tout k ∈ $K$ il existe une **_une règle de chiffremment_** correspondante e<sub>k</sub> ∈ $E$ et une **_regle de déchiffrement_** d<sub>k</sub> ∈ $D$ telles que e<sub>k</sub> : $P$ ⟶ $C$ et d<sub>k</sub> : $C$ ⟶ $P$   avec  d<sub>k</sub>(e<sub>k</sub>)(x)=x ."
   ]
  },
  {
   "cell_type": "markdown",
   "metadata": {},
   "source": [
    "On s'accorde sur l'idée que Alice et Bob se sont mis d'accord par canal sécurisé pour partager la clé."
   ]
  },
  {
   "cell_type": "markdown",
   "metadata": {},
   "source": [
    "![codes en bloc ](codeenbloc.png)\n"
   ]
  },
  {
   "cell_type": "markdown",
   "metadata": {},
   "source": [
    "On remarque plusieurs choses :\n",
    "+ Le chiffrement se fait sous forme de blocs clairs/chiffrés\n",
    "+ la fonction de chiffrement doit être injective sinon il est impossible de déchiffrer\n",
    "+ si les $P$ (les clais) = $C$ (chiffrés) alors le cryptosystème n'est qu'une permutation de ces ensembles"
   ]
  },
  {
   "cell_type": "markdown",
   "metadata": {},
   "source": [
    "## $1.1.1$ cryptosystèmes anciens\n"
   ]
  },
  {
   "cell_type": "markdown",
   "metadata": {},
   "source": [
    "### $1.1.1.1$ Cryptosystème de par décalage"
   ]
  },
  {
   "cell_type": "markdown",
   "metadata": {},
   "source": [
    "#### Chiffrement"
   ]
  },
  {
   "cell_type": "markdown",
   "metadata": {},
   "source": [
    "Le principe du cryptosysthème de césar est assez simple on définis un dictionnaire contenant par exemple toutes les lettres de l'alphabet en minuscule et en majuscule , on associe chaque caractère à un numéro , ce dictionnaire contient 55 caractères :"
   ]
  },
  {
   "cell_type": "code",
   "execution_count": 92,
   "metadata": {},
   "outputs": [],
   "source": [
    "alphabet = {\n",
    "    1: 'a', 2: 'b', 3: 'c', 4: 'd', 5: 'e', 6: 'f', 7: 'g', 8: 'h', 9: 'i',\n",
    "    10: 'j', 11: 'k', 12: 'l', 13: 'm', 14: 'n', 15: 'o', 16: 'p', 17: 'q',\n",
    "    18: 'r', 19: 's', 20: 't', 21: 'u', 22: 'v', 23: 'w', 24: 'x', 25: 'y',\n",
    "    26: 'z', 27: ',', 28: ' ', 29: '.',\n",
    "    30: 'A', 31: 'B', 32: 'C', 33: 'D', 34: 'E', 35: 'F', 36: 'G', 37: 'H',\n",
    "    38: 'I', 39: 'J', 40: 'K', 41: 'L', 42: 'M', 43: 'N', 44: 'O', 45: 'P',\n",
    "    46: 'Q', 47: 'R', 48: 'S', 49: 'T', 50: 'U', 51: 'V', 52: 'W', 53: 'X',\n",
    "    54: 'Y', 55: 'Z'\n",
    "}\n"
   ]
  },
  {
   "cell_type": "code",
   "execution_count": 101,
   "metadata": {},
   "outputs": [],
   "source": [
    "def transformationalphabet (chaine): ##L'idée de cette fonction est d'extraire le numéro de chaque élement de la chaine de caractère \n",
    "    tab=[] #on initialise le tableau résultat\n",
    "    for char in chaine: #on parcours la chaine de caractère\n",
    "        if char in alphabet.values(): #on vérifie le présence de chaque élément de la chaine de caractère dans l'alphabet\n",
    "            for (num,lettre) in alphabet.items(): #on parcours les couples clé/valeur du dictionnaire\n",
    "                if (char==lettre):#on verifier les corespondances caractère lettre et on rajoute le numéro au tableau\n",
    "                    tab.append(num)\n",
    "    return tab\n",
    "\n"
   ]
  },
  {
   "cell_type": "code",
   "execution_count": 259,
   "metadata": {},
   "outputs": [
    {
     "data": {
      "text/plain": [
       "[10,\n",
       " 5,\n",
       " 28,\n",
       " 20,\n",
       " 1,\n",
       " 9,\n",
       " 13,\n",
       " 5,\n",
       " 28,\n",
       " 20,\n",
       " 5,\n",
       " 12,\n",
       " 12,\n",
       " 5,\n",
       " 13,\n",
       " 5,\n",
       " 14,\n",
       " 20,\n",
       " 28,\n",
       " 10,\n",
       " 5,\n",
       " 28,\n",
       " 14,\n",
       " 1,\n",
       " 18,\n",
       " 18,\n",
       " 9,\n",
       " 22,\n",
       " 5,\n",
       " 28,\n",
       " 16,\n",
       " 1,\n",
       " 19,\n",
       " 28,\n",
       " 1,\n",
       " 28,\n",
       " 13,\n",
       " 5,\n",
       " 28,\n",
       " 16,\n",
       " 1,\n",
       " 19,\n",
       " 19,\n",
       " 5,\n",
       " 18,\n",
       " 28,\n",
       " 4,\n",
       " 5,\n",
       " 28,\n",
       " 20,\n",
       " 15,\n",
       " 9,\n",
       " 28,\n",
       " 13,\n",
       " 15,\n",
       " 14,\n",
       " 28,\n",
       " 1,\n",
       " 13,\n",
       " 15,\n",
       " 21,\n",
       " 18]"
      ]
     },
     "execution_count": 259,
     "metadata": {},
     "output_type": "execute_result"
    }
   ],
   "source": [
    "testcesar=transformationalphabet('je taime tellement je narrive pas a me passer de toi mon amour')\n",
    "testcesar"
   ]
  },
  {
   "cell_type": "code",
   "execution_count": 268,
   "metadata": {},
   "outputs": [],
   "source": [
    "def cesar1(tab,n,alph): ##tab est la chaine de numéros ,n est le décalage , alph est l'alphabet #décalage\n",
    "    res=[]\n",
    "    k=len(alph)#on calcule la taille de l'alphabet\n",
    "    for i in range(len(tab)):#on parcours la chaine de caractère\n",
    "        res.append((tab[i]+n)%k) #on calcule lopération modulaire du chiffrement \n",
    "    return res#on retourne un tableau de numero chiffré\n",
    "        \n",
    "\n"
   ]
  },
  {
   "cell_type": "code",
   "execution_count": 283,
   "metadata": {},
   "outputs": [
    {
     "data": {
      "text/plain": [
       "[3,\n",
       " 53,\n",
       " 21,\n",
       " 13,\n",
       " 49,\n",
       " 2,\n",
       " 6,\n",
       " 53,\n",
       " 21,\n",
       " 13,\n",
       " 53,\n",
       " 5,\n",
       " 5,\n",
       " 53,\n",
       " 6,\n",
       " 53,\n",
       " 7,\n",
       " 13,\n",
       " 21,\n",
       " 3,\n",
       " 53,\n",
       " 21,\n",
       " 7,\n",
       " 49,\n",
       " 11,\n",
       " 11,\n",
       " 2,\n",
       " 15,\n",
       " 53,\n",
       " 21,\n",
       " 9,\n",
       " 49,\n",
       " 12,\n",
       " 21,\n",
       " 49,\n",
       " 21,\n",
       " 6,\n",
       " 53,\n",
       " 21,\n",
       " 9,\n",
       " 49,\n",
       " 12,\n",
       " 12,\n",
       " 53,\n",
       " 11,\n",
       " 21,\n",
       " 52,\n",
       " 53,\n",
       " 21,\n",
       " 13,\n",
       " 8,\n",
       " 2,\n",
       " 21,\n",
       " 6,\n",
       " 8,\n",
       " 7,\n",
       " 21,\n",
       " 49,\n",
       " 6,\n",
       " 8,\n",
       " 14,\n",
       " 11]"
      ]
     },
     "execution_count": 283,
     "metadata": {},
     "output_type": "execute_result"
    }
   ],
   "source": [
    "testcesar1=cesar1(testcesar,48,alphabet)\n",
    "testcesar1"
   ]
  },
  {
   "cell_type": "code",
   "execution_count": 290,
   "metadata": {},
   "outputs": [],
   "source": [
    "def cesar2(tab,alph):#nos parametres sont le tableau de nombres chiffrés par décalage , l'alphabet#passer des numéros aux chaines de caracteres\n",
    "    res=[]\n",
    "    for char in tab:#on carcours les éléments du tablea\n",
    "        if char in alph.keys():#si l'élément est dans l'alphabet \n",
    "            for (num,lettre) in alph.items():##on recherche le couple numéro lettre\n",
    "                if (char==num):\n",
    "                    res.append(lettre)#on rajoute la lèttre au résultat\n",
    "    return res\n",
    "            "
   ]
  },
  {
   "cell_type": "code",
   "execution_count": 296,
   "metadata": {},
   "outputs": [
    {
     "data": {
      "text/plain": [
       "['c',\n",
       " 'X',\n",
       " 'u',\n",
       " 'm',\n",
       " 'T',\n",
       " 'b',\n",
       " 'f',\n",
       " 'X',\n",
       " 'u',\n",
       " 'm',\n",
       " 'X',\n",
       " 'e',\n",
       " 'e',\n",
       " 'X',\n",
       " 'f',\n",
       " 'X',\n",
       " 'g',\n",
       " 'm',\n",
       " 'u',\n",
       " 'c',\n",
       " 'X',\n",
       " 'u',\n",
       " 'g',\n",
       " 'T',\n",
       " 'k',\n",
       " 'k',\n",
       " 'b',\n",
       " 'o',\n",
       " 'X',\n",
       " 'u',\n",
       " 'i',\n",
       " 'T',\n",
       " 'l',\n",
       " 'u',\n",
       " 'T',\n",
       " 'u',\n",
       " 'f',\n",
       " 'X',\n",
       " 'u',\n",
       " 'i',\n",
       " 'T',\n",
       " 'l',\n",
       " 'l',\n",
       " 'X',\n",
       " 'k',\n",
       " 'u',\n",
       " 'W',\n",
       " 'X',\n",
       " 'u',\n",
       " 'm',\n",
       " 'h',\n",
       " 'b',\n",
       " 'u',\n",
       " 'f',\n",
       " 'h',\n",
       " 'g',\n",
       " 'u',\n",
       " 'T',\n",
       " 'f',\n",
       " 'h',\n",
       " 'n',\n",
       " 'k']"
      ]
     },
     "execution_count": 296,
     "metadata": {},
     "output_type": "execute_result"
    }
   ],
   "source": [
    "testcesar2=cesar2(testcesar1,alphabet)\n",
    "testcesar2"
   ]
  },
  {
   "cell_type": "code",
   "execution_count": 301,
   "metadata": {},
   "outputs": [],
   "source": [
    "def cesar3(chaine,alph,n):#Le chiffrement unifié\n",
    "    res=transformationalphabet(chaine)\n",
    "    res=cesar1(res,n,alph)\n",
    "    res=cesar2(res,alph)\n",
    "    return res\n",
    "    "
   ]
  },
  {
   "cell_type": "code",
   "execution_count": 305,
   "metadata": {},
   "outputs": [
    {
     "data": {
      "text/plain": [
       "['c', 'X', 'u', 'm', 'T', 'b', 'f', 'X']"
      ]
     },
     "execution_count": 305,
     "metadata": {},
     "output_type": "execute_result"
    }
   ],
   "source": [
    "cesar3('je taime',alphabet,48)"
   ]
  },
  {
   "cell_type": "markdown",
   "metadata": {},
   "source": [
    "### Déchiffrement :"
   ]
  },
  {
   "cell_type": "markdown",
   "metadata": {},
   "source": [
    "On supposera ici que Alice et Bob connaissent au préalable le décalage c'est la clé secrète ici"
   ]
  },
  {
   "cell_type": "code",
   "execution_count": 308,
   "metadata": {},
   "outputs": [],
   "source": [
    "def dechcés(tab,alphabet,n):#Déchiffrement unifié\n",
    "    res=[]#resultat\n",
    "    k=len(alphabet)\n",
    "    tab1=transformationalphabet(tab)#transformation en chiffre\n",
    "    print(tab1)\n",
    "    tab1=cesar1(tab1,-n,alphabet)#inversion de l'addition modulaire\n",
    "    print(tab1)\n",
    "    tab1=cesar2(tab1,alphabet)#inversion en lettre\n",
    "    return tab1\n",
    "\n",
    "        "
   ]
  },
  {
   "cell_type": "code",
   "execution_count": 310,
   "metadata": {},
   "outputs": [
    {
     "name": "stdout",
     "output_type": "stream",
     "text": [
      "[3, 53, 21, 13, 49, 2, 6, 53, 21, 13, 53, 5, 5, 53, 6, 53, 7, 13, 21, 3, 53, 21, 7, 49, 11, 11, 2, 15, 53, 21, 9, 49, 12, 21, 49, 21, 6, 53, 21, 9, 49, 12, 12, 53, 11, 21, 52, 53, 21, 13, 8, 2, 21, 6, 8, 7, 21, 49, 6, 8, 14, 11]\n",
      "[10, 5, 28, 20, 1, 9, 13, 5, 28, 20, 5, 12, 12, 5, 13, 5, 14, 20, 28, 10, 5, 28, 14, 1, 18, 18, 9, 22, 5, 28, 16, 1, 19, 28, 1, 28, 13, 5, 28, 16, 1, 19, 19, 5, 18, 28, 4, 5, 28, 20, 15, 9, 28, 13, 15, 14, 28, 1, 13, 15, 21, 18]\n"
     ]
    },
    {
     "data": {
      "text/plain": [
       "['j',\n",
       " 'e',\n",
       " ' ',\n",
       " 't',\n",
       " 'a',\n",
       " 'i',\n",
       " 'm',\n",
       " 'e',\n",
       " ' ',\n",
       " 't',\n",
       " 'e',\n",
       " 'l',\n",
       " 'l',\n",
       " 'e',\n",
       " 'm',\n",
       " 'e',\n",
       " 'n',\n",
       " 't',\n",
       " ' ',\n",
       " 'j',\n",
       " 'e',\n",
       " ' ',\n",
       " 'n',\n",
       " 'a',\n",
       " 'r',\n",
       " 'r',\n",
       " 'i',\n",
       " 'v',\n",
       " 'e',\n",
       " ' ',\n",
       " 'p',\n",
       " 'a',\n",
       " 's',\n",
       " ' ',\n",
       " 'a',\n",
       " ' ',\n",
       " 'm',\n",
       " 'e',\n",
       " ' ',\n",
       " 'p',\n",
       " 'a',\n",
       " 's',\n",
       " 's',\n",
       " 'e',\n",
       " 'r',\n",
       " ' ',\n",
       " 'd',\n",
       " 'e',\n",
       " ' ',\n",
       " 't',\n",
       " 'o',\n",
       " 'i',\n",
       " ' ',\n",
       " 'm',\n",
       " 'o',\n",
       " 'n',\n",
       " ' ',\n",
       " 'a',\n",
       " 'm',\n",
       " 'o',\n",
       " 'u',\n",
       " 'r']"
      ]
     },
     "execution_count": 310,
     "metadata": {},
     "output_type": "execute_result"
    }
   ],
   "source": [
    "dechcés(testcesar2,alphabet,48)"
   ]
  },
  {
   "cell_type": "markdown",
   "metadata": {},
   "source": [
    "### Cryptanalyse du chiffrement de césar/par décalage/vigenère"
   ]
  },
  {
   "cell_type": "markdown",
   "metadata": {},
   "source": [
    "Le chiffrement de César est l'un des plus anciens et des plus simples systèmes de chiffrement par substitution. Il consiste à décaler chaque lettre d'un certain nombre de positions dans l'alphabet. Par exemple, avec un décalage de 3, 'A' serait remplacé par 'D', 'B' par 'E', et ainsi de suite. Voici quelques techniques de cryptanalyse souvent utilisées pour attaquer le chiffrement de César :\n",
    "\n",
    "1. Analyse de la fréquence des lettres :\n",
    "L'analyse de la fréquence des lettres dans le texte chiffré peut être efficace, surtout si le message chiffré est assez long. Dans de nombreuses langues, certaines lettres sont plus fréquentes que d'autres (par exemple, 'e' en anglais). En comptant les occurrences de chaque lettre dans le texte chiffré, on peut estimer le décalage utilisé. Par exemple, si 'x' est la lettre la plus fréquente dans le texte chiffré, il pourrait correspondre à 'e' décalé de 3 positions ('x' - 3 = 'e' dans l'alphabet).\n",
    "\n",
    "2. Essai des décalages possibles :\n",
    "Étant donné que le chiffrement de César utilise un décalage fixe, il est possible d'essayer chaque décalage possible (généralement 26 décalages, car il y a 26 lettres dans l'alphabet) pour décoder le message. Cela peut être fait manuellement ou automatiquement à l'aide d'un script. En testant chaque décalage et en examinant le résultat, il devient évident quand le message déchiffré est lisible.\n",
    "\n",
    "3. Analyse de la fréquence des paires de lettres :\n",
    "En plus de l'analyse de la fréquence des lettres individuelles, l'analyse des fréquences des paires de lettres peut également être utile. Par exemple, en anglais, certaines paires de lettres comme 'th', 'he', 'in', etc., sont très courantes. En analysant les paires de lettres dans le texte chiffré, il est possible de deviner le décalage utilisé.\n",
    "\n",
    "4. Utilisation de l'indice de coïncidence :\n",
    "L'indice de coïncidence est une mesure statistique qui peut indiquer à quel point un texte est proche de la distribution attendue des fréquences de lettres dans une langue donnée. En comparant l'indice de coïncidence du texte chiffré avec celui d'une langue connue (comme l'anglais pour un message en anglais), il est possible de deviner le décalage ou de confirmer une hypothèse sur le décalage utilisé.\n",
    "\n",
    "5. Attaques par force brute et par dictionnaire :\n",
    "Enfin, des méthodes plus brutes comme l'attaque par force brute (tester tous les décalages possibles) ou par dictionnaire (tester tous les mots connus dans une langue donnée pour voir s'ils déchiffrent correctement le texte) peuvent également être utilisées, en particulier si le décalage est inconnu.\n",
    "\n",
    "Limitations :\n",
    "Le chiffrement de César est vulnérable aux attaques par force brute et par analyse fréquentielle car il est basé sur un décalage fixe et ne change pas la structure des mots.\n",
    "Le chiffrement de César est facilement cassé si le texte chiffré est suffisamment long pour permettre une analyse statistique significative des fréquences.\n",
    "En résumé, bien que le chiffrement de César soit simple et intuitif, il est également facile à casser avec des techniques relativement simples si les conditions sont favorables (comme un texte chiffré suffisamment long et une langue connue pour l'analyse)."
   ]
  },
  {
   "cell_type": "markdown",
   "metadata": {},
   "source": [
    "### $1.1.1.2$ Outils\n",
    "A ce stade nous allons introduire certains outils comme le dictionnaire ASCII et la capacité à nous servir de grand textes en français pour dégéger une distribution de probabilité basique sur la langue française :\n"
   ]
  },
  {
   "cell_type": "code",
   "execution_count": 1,
   "metadata": {},
   "outputs": [
    {
     "name": "stdout",
     "output_type": "stream",
     "text": [
      "{'\\x00': 0, '\\x01': 1, '\\x02': 2, '\\x03': 3, '\\x04': 4, '\\x05': 5, '\\x06': 6, '\\x07': 7, '\\x08': 8, '\\t': 9, '\\n': 10, '\\x0b': 11, '\\x0c': 12, '\\r': 13, '\\x0e': 14, '\\x0f': 15, '\\x10': 16, '\\x11': 17, '\\x12': 18, '\\x13': 19, '\\x14': 20, '\\x15': 21, '\\x16': 22, '\\x17': 23, '\\x18': 24, '\\x19': 25, '\\x1a': 26, '\\x1b': 27, '\\x1c': 28, '\\x1d': 29, '\\x1e': 30, '\\x1f': 31, ' ': 32, '!': 33, '\"': 34, '#': 35, '$': 36, '%': 37, '&': 38, \"'\": 39, '(': 40, ')': 41, '*': 42, '+': 43, ',': 44, '-': 45, '.': 46, '/': 47, '0': 48, '1': 49, '2': 50, '3': 51, '4': 52, '5': 53, '6': 54, '7': 55, '8': 56, '9': 57, ':': 58, ';': 59, '<': 60, '=': 61, '>': 62, '?': 63, '@': 64, 'A': 65, 'B': 66, 'C': 67, 'D': 68, 'E': 69, 'F': 70, 'G': 71, 'H': 72, 'I': 73, 'J': 74, 'K': 75, 'L': 76, 'M': 77, 'N': 78, 'O': 79, 'P': 80, 'Q': 81, 'R': 82, 'S': 83, 'T': 84, 'U': 85, 'V': 86, 'W': 87, 'X': 88, 'Y': 89, 'Z': 90, '[': 91, '\\\\': 92, ']': 93, '^': 94, '_': 95, '`': 96, 'a': 97, 'b': 98, 'c': 99, 'd': 100, 'e': 101, 'f': 102, 'g': 103, 'h': 104, 'i': 105, 'j': 106, 'k': 107, 'l': 108, 'm': 109, 'n': 110, 'o': 111, 'p': 112, 'q': 113, 'r': 114, 's': 115, 't': 116, 'u': 117, 'v': 118, 'w': 119, 'x': 120, 'y': 121, 'z': 122, '{': 123, '|': 124, '}': 125, '~': 126, '\\x7f': 127}\n"
     ]
    }
   ],
   "source": [
    "\n",
    "ascii_dict = {}\n",
    "\n",
    "# Remplissage du dictionnaire avec les caractères ASCII et leurs indices\n",
    "for i in range(128):  # Il y a 128 caractères ASCII (0 à 127)\n",
    "    ascii_dict[chr(i)] = i\n",
    "\n",
    "# Affichage du dictionnaire\n",
    "print(ascii_dict)\n"
   ]
  },
  {
   "cell_type": "code",
   "execution_count": 7,
   "metadata": {},
   "outputs": [
    {
     "name": "stdout",
     "output_type": "stream",
     "text": [
      "Requirement already satisfied: tabulate in c:\\users\\serizawa\\.vscode\\projets\\python\\.conda\\lib\\site-packages (0.9.0)\n",
      "Note: you may need to restart the kernel to use updated packages.\n"
     ]
    }
   ],
   "source": [
    "pip install tabulate"
   ]
  },
  {
   "cell_type": "code",
   "execution_count": 14,
   "metadata": {},
   "outputs": [
    {
     "name": "stdout",
     "output_type": "stream",
     "text": [
      "+-------------+---------------+\n",
      "| Caractère   |   Probabilité |\n",
      "+=============+===============+\n",
      "|              |        0      |\n",
      "+-------------+---------------+\n",
      "| ~           |        0      |\n",
      "+-------------+---------------+\n",
      "| }           |        0      |\n",
      "+-------------+---------------+\n",
      "| |           |        0      |\n",
      "+-------------+---------------+\n",
      "| {           |        0      |\n",
      "+-------------+---------------+\n",
      "| z           |        0.0027 |\n",
      "+-------------+---------------+\n",
      "| y           |        0.0054 |\n",
      "+-------------+---------------+\n",
      "| x           |        0.0055 |\n",
      "+-------------+---------------+\n",
      "| w           |        0      |\n",
      "+-------------+---------------+\n",
      "| v           |        0.0134 |\n",
      "+-------------+---------------+\n",
      "| u           |        0.049  |\n",
      "+-------------+---------------+\n",
      "| t           |        0.0483 |\n",
      "+-------------+---------------+\n",
      "| s           |        0.0561 |\n",
      "+-------------+---------------+\n",
      "| r           |        0.0541 |\n",
      "+-------------+---------------+\n",
      "| q           |        0.0078 |\n",
      "+-------------+---------------+\n",
      "| p           |        0.017  |\n",
      "+-------------+---------------+\n",
      "| o           |        0.0454 |\n",
      "+-------------+---------------+\n",
      "| n           |        0.0554 |\n",
      "+-------------+---------------+\n",
      "| m           |        0.021  |\n",
      "+-------------+---------------+\n",
      "| l           |        0.036  |\n",
      "+-------------+---------------+\n",
      "| k           |        0      |\n",
      "+-------------+---------------+\n",
      "| j           |        0.0056 |\n",
      "+-------------+---------------+\n",
      "| i           |        0.0498 |\n",
      "+-------------+---------------+\n",
      "| h           |        0.0097 |\n",
      "+-------------+---------------+\n",
      "| g           |        0.0088 |\n",
      "+-------------+---------------+\n",
      "| f           |        0.0069 |\n",
      "+-------------+---------------+\n",
      "| e           |        0.1204 |\n",
      "+-------------+---------------+\n",
      "| d           |        0.0228 |\n",
      "+-------------+---------------+\n",
      "| c           |        0.0281 |\n",
      "+-------------+---------------+\n",
      "| b           |        0.0079 |\n",
      "+-------------+---------------+\n",
      "| a           |        0.0629 |\n",
      "+-------------+---------------+\n",
      "| `           |        0      |\n",
      "+-------------+---------------+\n",
      "| _           |        0      |\n",
      "+-------------+---------------+\n",
      "| ^           |        0      |\n",
      "+-------------+---------------+\n",
      "| ]           |        0      |\n",
      "+-------------+---------------+\n",
      "| \\           |        0      |\n",
      "+-------------+---------------+\n",
      "| [           |        0      |\n",
      "+-------------+---------------+\n",
      "| Z           |        0      |\n",
      "+-------------+---------------+\n",
      "| Y           |        0      |\n",
      "+-------------+---------------+\n",
      "| X           |        0      |\n",
      "+-------------+---------------+\n",
      "| W           |        0      |\n",
      "+-------------+---------------+\n",
      "| V           |        0      |\n",
      "+-------------+---------------+\n",
      "| U           |        0      |\n",
      "+-------------+---------------+\n",
      "| T           |        0      |\n",
      "+-------------+---------------+\n",
      "| S           |        0      |\n",
      "+-------------+---------------+\n",
      "| R           |        0      |\n",
      "+-------------+---------------+\n",
      "| Q           |        0      |\n",
      "+-------------+---------------+\n",
      "| P           |        0      |\n",
      "+-------------+---------------+\n",
      "| O           |        0      |\n",
      "+-------------+---------------+\n",
      "| N           |        0      |\n",
      "+-------------+---------------+\n",
      "| M           |        0      |\n",
      "+-------------+---------------+\n",
      "| L           |        0      |\n",
      "+-------------+---------------+\n",
      "| K           |        0      |\n",
      "+-------------+---------------+\n",
      "| J           |        0      |\n",
      "+-------------+---------------+\n",
      "| I           |        0      |\n",
      "+-------------+---------------+\n",
      "| H           |        0      |\n",
      "+-------------+---------------+\n",
      "| G           |        0      |\n",
      "+-------------+---------------+\n",
      "| F           |        0      |\n",
      "+-------------+---------------+\n",
      "| E           |        0      |\n",
      "+-------------+---------------+\n",
      "| D           |        0      |\n",
      "+-------------+---------------+\n",
      "| C           |        0      |\n",
      "+-------------+---------------+\n",
      "| B           |        0      |\n",
      "+-------------+---------------+\n",
      "| A           |        0      |\n",
      "+-------------+---------------+\n",
      "| @           |        0      |\n",
      "+-------------+---------------+\n",
      "| ?           |        0.003  |\n",
      "+-------------+---------------+\n",
      "| >           |        0.0001 |\n",
      "+-------------+---------------+\n",
      "| =           |        0      |\n",
      "+-------------+---------------+\n",
      "| <           |        0.0001 |\n",
      "+-------------+---------------+\n",
      "| ;           |        0.0005 |\n",
      "+-------------+---------------+\n",
      "| :           |        0.0006 |\n",
      "+-------------+---------------+\n",
      "| 9           |        0      |\n",
      "+-------------+---------------+\n",
      "| 8           |        0      |\n",
      "+-------------+---------------+\n",
      "| 7           |        0      |\n",
      "+-------------+---------------+\n",
      "| 6           |        0      |\n",
      "+-------------+---------------+\n",
      "| 5           |        0      |\n",
      "+-------------+---------------+\n",
      "| 4           |        0      |\n",
      "+-------------+---------------+\n",
      "| 3           |        0      |\n",
      "+-------------+---------------+\n",
      "| 2           |        0      |\n",
      "+-------------+---------------+\n",
      "| 1           |        0.0001 |\n",
      "+-------------+---------------+\n",
      "| 0           |        0      |\n",
      "+-------------+---------------+\n",
      "| /           |        0      |\n",
      "+-------------+---------------+\n",
      "| .           |        0.0215 |\n",
      "+-------------+---------------+\n",
      "| -           |        0.0063 |\n",
      "+-------------+---------------+\n",
      "| ,           |        0.0168 |\n",
      "+-------------+---------------+\n",
      "| +           |        0      |\n",
      "+-------------+---------------+\n",
      "| *           |        0      |\n",
      "+-------------+---------------+\n",
      "| )           |        0      |\n",
      "+-------------+---------------+\n",
      "| (           |        0      |\n",
      "+-------------+---------------+\n",
      "| '           |        0.0103 |\n",
      "+-------------+---------------+\n",
      "| &           |        0      |\n",
      "+-------------+---------------+\n",
      "| %           |        0      |\n",
      "+-------------+---------------+\n",
      "| $           |        0      |\n",
      "+-------------+---------------+\n",
      "| #           |        0      |\n",
      "+-------------+---------------+\n",
      "| \"           |        0.0006 |\n",
      "+-------------+---------------+\n",
      "| !           |        0.0103 |\n",
      "+-------------+---------------+\n",
      "|             |        0.1439 |\n",
      "+-------------+---------------+\n",
      "|             |        0      |\n",
      "+-------------+---------------+\n",
      "|             |        0      |\n",
      "+-------------+---------------+\n",
      "|             |        0      |\n",
      "+-------------+---------------+\n",
      "|             |        0      |\n",
      "+-------------+---------------+\n",
      "| \u001b             |        0      |\n",
      "+-------------+---------------+\n",
      "| \u001a             |        0      |\n",
      "+-------------+---------------+\n",
      "| \u0019             |        0      |\n",
      "+-------------+---------------+\n",
      "| \u0018             |        0      |\n",
      "+-------------+---------------+\n",
      "| \u0017             |        0      |\n",
      "+-------------+---------------+\n",
      "| \u0016             |        0      |\n",
      "+-------------+---------------+\n",
      "| \u0015             |        0      |\n",
      "+-------------+---------------+\n",
      "| \u0014             |        0      |\n",
      "+-------------+---------------+\n",
      "| \u0013             |        0      |\n",
      "+-------------+---------------+\n",
      "| \u0012             |        0      |\n",
      "+-------------+---------------+\n",
      "| \u0011             |        0      |\n",
      "+-------------+---------------+\n",
      "| \u0010             |        0      |\n",
      "+-------------+---------------+\n",
      "| \u000f             |        0      |\n",
      "+-------------+---------------+\n",
      "| \u000e             |        0      |\n",
      "+-------------+---------------+\n",
      "|             |        0      |\n",
      "+-------------+---------------+\n",
      "|             |        0      |\n",
      "+-------------+---------------+\n",
      "|             |        0      |\n",
      "+-------------+---------------+\n",
      "|             |        0.0458 |\n",
      "+-------------+---------------+\n",
      "|             |        0      |\n",
      "+-------------+---------------+\n",
      "|             |        0      |\n",
      "+-------------+---------------+\n",
      "| \u0007             |        0      |\n",
      "+-------------+---------------+\n",
      "| \u0006             |        0      |\n",
      "+-------------+---------------+\n",
      "| \u0005             |        0      |\n",
      "+-------------+---------------+\n",
      "| \u0004             |        0      |\n",
      "+-------------+---------------+\n",
      "| \u0003             |        0      |\n",
      "+-------------+---------------+\n",
      "| \u0002             |        0      |\n",
      "+-------------+---------------+\n",
      "| \u0001 |\n",
      "+-------------+---------------+\n",
      "| \u0000            |        0      |\n",
      "+-------------+---------------+\n"
     ]
    }
   ],
   "source": [
    "from collections import Counter\n",
    "from tabulate import tabulate\n",
    "import unicodedata\n",
    "\n",
    "def create_ascii_dict():\n",
    "    ascii_dict = {}\n",
    "    for i in range(128):\n",
    "        ascii_dict[chr(i)] = i\n",
    "    return ascii_dict\n",
    "\n",
    "def strip_accents(text):\n",
    "    return ''.join(c for c in unicodedata.normalize('NFD', text) if unicodedata.category(c) != 'Mn')\n",
    "\n",
    "def distribution_probabilite_ascii(texte, ascii_dict):\n",
    "    # Calcul des fréquences de chaque caractère\n",
    "    frequence_caracteres = Counter(texte)\n",
    "    \n",
    "    # Nombre total de caractères dans le texte\n",
    "    total_caracteres = sum(frequence_caracteres.values())\n",
    "    \n",
    "    # Création de la distribution de probabilité\n",
    "    distribution_probabilite = {}\n",
    "    for caractere in ascii_dict.keys():\n",
    "        if caractere in frequence_caracteres:\n",
    "            probabilite = frequence_caracteres[caractere] / total_caracteres\n",
    "            distribution_probabilite[caractere] = probabilite\n",
    "        else:\n",
    "            distribution_probabilite[caractere] = 0.0\n",
    "    \n",
    "    return distribution_probabilite\n",
    "\n",
    "# Création du dictionnaire ASCII\n",
    "ascii_dict = create_ascii_dict()\n",
    "\n",
    "# Lecture du fichier texte 'cyranno.txt'\n",
    "with open('cyrano.txt', 'r', encoding='utf-8') as file:\n",
    "    texte_francais = file.read()\n",
    "\n",
    "# Convertir le texte en minuscules et retirer les accents\n",
    "texte_francais = strip_accents(texte_francais).lower()\n",
    "\n",
    "# Filtrer le texte pour ne garder que les caractères ASCII\n",
    "texte_francais = ''.join(char for char in texte_francais if char in ascii_dict)\n",
    "\n",
    "# Calcul de la distribution de probabilité\n",
    "distribution = distribution_probabilite_ascii(texte_francais, ascii_dict)\n",
    "\n",
    "# Trier la distribution par ordre décroissant des indices ASCII\n",
    "sorted_distribution = dict(sorted(distribution.items(), key=lambda item: ascii_dict[item[0]], reverse=True))\n",
    "\n",
    "# Préparation des données pour affichage sous forme de tableau\n",
    "table = [(caractere, f\"{probabilite:.4f}\") for caractere, probabilite in sorted_distribution.items()]\n",
    "\n",
    "# Affichage du tableau\n",
    "print(tabulate(table, headers=[\"Caractère\", \"Probabilité\"], tablefmt=\"grid\"))\n",
    "\n"
   ]
  },
  {
   "cell_type": "markdown",
   "metadata": {},
   "source": [
    "En utilisant la distribution de porbabilitée trouvée on peut chercher facilement le décalage du chiffrement "
   ]
  },
  {
   "cell_type": "markdown",
   "metadata": {},
   "source": [
    "### $1.1.1.3$ Chiffrement par substitution"
   ]
  },
  {
   "cell_type": "markdown",
   "metadata": {},
   "source": [
    "![chiffrement par substitution](chiffrementparsubstitution.png)"
   ]
  },
  {
   "cell_type": "code",
   "execution_count": 75,
   "metadata": {},
   "outputs": [
    {
     "name": "stdout",
     "output_type": "stream",
     "text": [
      "{'A': 0, 'B': 1, 'C': 2, 'D': 3, 'E': 4, 'F': 5, 'G': 6, 'H': 7, 'I': 8, 'J': 9, 'K': 10, 'L': 11, 'M': 12, 'N': 13, 'O': 14, 'P': 15, 'Q': 16, 'R': 17, 'S': 18, 'T': 19, 'U': 20, 'V': 21, 'W': 22, 'X': 23, 'Y': 24, 'Z': 25}\n"
     ]
    }
   ],
   "source": [
    "dicofr = {\n",
    "    'A': 0, 'B': 1, 'C': 2, 'D': 3, 'E': 4, 'F': 5, 'G': 6, 'H': 7, 'I': 8, 'J': 9,\n",
    "    'K': 10, 'L': 11, 'M': 12, 'N': 13, 'O': 14, 'P': 15, 'Q': 16, 'R': 17, 'S': 18,\n",
    "    'T': 19, 'U': 20, 'V': 21, 'W': 22, 'X': 23, 'Y': 24, 'Z': 25,\n",
    "}\n",
    "\n",
    "# Affichage du dictionnaire pour vérification\n",
    "print(dicofr)\n"
   ]
  },
  {
   "cell_type": "markdown",
   "metadata": {},
   "source": [
    "Compte tenu de notre dictionaire nous allons raisonner modulo 26 le chiffrement se fait simplement en donnant à chaque lettre de numero $l$ une lettre de numero $a$ ou a est l'image de l par la permutation particulière choisie sur  <span style=\"font-family: 'Arial Unicode MS', sans-serif; font-weight: bold;\">Z</span>/<span style=\"font-family: 'Arial Unicode MS', sans-serif; font-weight: bold;\">26</span><span style=\"font-family: 'Arial Unicode MS', sans-serif; font-weight: bold;\">Z</span>\n",
    "\n"
   ]
  },
  {
   "cell_type": "code",
   "execution_count": 81,
   "metadata": {},
   "outputs": [
    {
     "data": {
      "text/plain": [
       "['A',\n",
       " 'B',\n",
       " 'C',\n",
       " 'D',\n",
       " 'E',\n",
       " 'F',\n",
       " 'G',\n",
       " 'H',\n",
       " 'I',\n",
       " 'J',\n",
       " 'K',\n",
       " 'L',\n",
       " 'M',\n",
       " 'N',\n",
       " 'O',\n",
       " 'P',\n",
       " 'Q',\n",
       " 'R',\n",
       " 'S',\n",
       " 'T',\n",
       " 'U',\n",
       " 'V',\n",
       " 'W',\n",
       " 'X',\n",
       " 'Y',\n",
       " 'Z']"
      ]
     },
     "execution_count": 81,
     "metadata": {},
     "output_type": "execute_result"
    }
   ],
   "source": [
    "import random\n",
    "\n",
    "# Liste des clés (lettres)\n",
    "lettres1 = list(dicofr.keys())\n",
    "lettres1"
   ]
  },
  {
   "cell_type": "code",
   "execution_count": 86,
   "metadata": {},
   "outputs": [
    {
     "data": {
      "text/plain": [
       "['T',\n",
       " 'J',\n",
       " 'X',\n",
       " 'O',\n",
       " 'C',\n",
       " 'W',\n",
       " 'G',\n",
       " 'Z',\n",
       " 'E',\n",
       " 'N',\n",
       " 'Y',\n",
       " 'I',\n",
       " 'U',\n",
       " 'D',\n",
       " 'A',\n",
       " 'S',\n",
       " 'H',\n",
       " 'Q',\n",
       " 'K',\n",
       " 'B',\n",
       " 'P',\n",
       " 'F',\n",
       " 'L',\n",
       " 'M',\n",
       " 'V',\n",
       " 'R']"
      ]
     },
     "execution_count": 86,
     "metadata": {},
     "output_type": "execute_result"
    }
   ],
   "source": [
    "# Copiez la liste originale si vous avez besoin de la version non mélangée\n",
    "lettres2 = lettres.copy()\n",
    "# Mélange aléatoire des lettres\n",
    "random.shuffle(lettres2)\n",
    "lettres2\n"
   ]
  },
  {
   "cell_type": "markdown",
   "metadata": {},
   "source": [
    "Cette permutation sera notre clé on chiffre en remplaçant le A par son image dans la permutation le B dans son image dans la permutation et ainsi de suite exemple"
   ]
  },
  {
   "cell_type": "code",
   "execution_count": 90,
   "metadata": {},
   "outputs": [
    {
     "data": {
      "text/plain": [
       "'JETAIMEMONAMOUR'"
      ]
     },
     "execution_count": 90,
     "metadata": {},
     "output_type": "execute_result"
    }
   ],
   "source": [
    "testsub=\"JETAIMEMONAMOUR\"\n",
    "testsub"
   ]
  },
  {
   "cell_type": "code",
   "execution_count": 95,
   "metadata": {},
   "outputs": [],
   "source": [
    "def chiffsub(chaine,alph,clé):#il faut un message un alphabet et une clé\n",
    "    res=[]#vecteur résultat\n",
    "    for char in chaine:#on parcours les éléments de la chaine\n",
    "        for i in range(0,len(alph)):#on recherche le caractere dans l'alphabet\n",
    "            if (char==alph[i]):#on teste la corespondance entre le caractere et les éléments de l'alphabet mis sous forme de tableau\n",
    "                res.append(clé[i])\n",
    "    return res\n"
   ]
  },
  {
   "cell_type": "code",
   "execution_count": 99,
   "metadata": {},
   "outputs": [],
   "source": [
    "lettres3=chiffsub(testsub,lettres1,lettres2)"
   ]
  },
  {
   "cell_type": "markdown",
   "metadata": {},
   "source": [
    "Le déchiffrement est tres facile il suffit de chiffrer en échangeant l'alphabet et la clé"
   ]
  },
  {
   "cell_type": "code",
   "execution_count": 100,
   "metadata": {},
   "outputs": [
    {
     "data": {
      "text/plain": [
       "['J', 'E', 'T', 'A', 'I', 'M', 'E', 'M', 'O', 'N', 'A', 'M', 'O', 'U', 'R']"
      ]
     },
     "execution_count": 100,
     "metadata": {},
     "output_type": "execute_result"
    }
   ],
   "source": [
    "chiffsub(lettres3,lettres2,lettres1)"
   ]
  },
  {
   "cell_type": "markdown",
   "metadata": {},
   "source": [
    "On peut remarquer qu'il s'agit la aussi d'un cryptosysthème à clé privée alice et bob connaissent tout les deux la permutation secrète qui est la clé ici"
   ]
  },
  {
   "cell_type": "markdown",
   "metadata": {},
   "source": [
    "### $1.1.1.4$ Petits rappels de théorie des nombres +chiffrement affine\n"
   ]
  },
  {
   "cell_type": "markdown",
   "metadata": {},
   "source": [
    "![tdn](chiffaff.png)\n",
    "![tdn](chiffaff1.png)\n",
    "![chiffrement affine](chiffaff2.png)"
   ]
  },
  {
   "cell_type": "markdown",
   "metadata": {},
   "source": [
    "Si vous êtes simplement intéréssés par la crypto continuez votre lecture si vous aimez les mathématiques a ce stade je recommende de faire des exercices sur z/nz."
   ]
  },
  {
   "cell_type": "markdown",
   "metadata": {},
   "source": [
    "### Cryptographie symétrique (à clé privé)"
   ]
  },
  {
   "cell_type": "markdown",
   "metadata": {},
   "source": [
    "### Cryptographie asymétrique (à clé publique)"
   ]
  },
  {
   "cell_type": "markdown",
   "metadata": {},
   "source": []
  },
  {
   "cell_type": "markdown",
   "metadata": {},
   "source": [
    "### Cryptosystème de césar"
   ]
  },
  {
   "cell_type": "markdown",
   "metadata": {},
   "source": [
    "\n"
   ]
  }
 ],
 "metadata": {
  "kernelspec": {
   "display_name": "Python 3",
   "language": "python",
   "name": "python3"
  },
  "language_info": {
   "codemirror_mode": {
    "name": "ipython",
    "version": 3
   },
   "file_extension": ".py",
   "mimetype": "text/x-python",
   "name": "python",
   "nbconvert_exporter": "python",
   "pygments_lexer": "ipython3",
   "version": "3.12.4"
  }
 },
 "nbformat": 4,
 "nbformat_minor": 2
}
